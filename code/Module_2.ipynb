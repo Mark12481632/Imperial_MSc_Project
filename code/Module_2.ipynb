{
  "nbformat": 4,
  "nbformat_minor": 0,
  "metadata": {
    "colab": {
      "provenance": [],
      "authorship_tag": "ABX9TyNvOvxZvu5t+FeMT2ZhCCl1",
      "include_colab_link": true
    },
    "kernelspec": {
      "name": "python3",
      "display_name": "Python 3"
    },
    "language_info": {
      "name": "python"
    }
  },
  "cells": [
    {
      "cell_type": "markdown",
      "metadata": {
        "id": "view-in-github",
        "colab_type": "text"
      },
      "source": [
        "<a href=\"https://colab.research.google.com/github/Mark12481632/Imperial_MSc_Project/blob/main/code/Module_2.ipynb\" target=\"_parent\"><img src=\"https://colab.research.google.com/assets/colab-badge.svg\" alt=\"Open In Colab\"/></a>"
      ]
    },
    {
      "cell_type": "markdown",
      "source": [
        "##Module 2 of the MSc Project.\n",
        "\n",
        "My research project is intending to use a Graphical Neural Network (GNN) to predict the solubility, in water, of small organic molecules.\n",
        "<BR><BR>\n",
        "\n",
        "The ESOL dataset: https://moleculenet.org/datasets-1, has been identified as a suitable source of data for this project.  It consists of the measured solubility of 1128 small organic molecules - if this is not enough data I may need to supplement this but can't know this until the GNN training stage.  The information in this dataset will need to be transformed into a format suitable for a GNN - i.e. a graph.\n",
        "<BR><BR>\n",
        "The analysis and transformation of the \"small organic molecule\" dataset will require specific packages:\n",
        "\n",
        "1.   **RDKIT (details:https://www.rdkit.org/docs/index.html)**<BR>\n",
        "     The RDKit is an open-source cheminformatics toolkit written in C++ that is also useable from Java or Python. It includes a collection of standard cheminformatics functionality for molecule I/O, substructure searching, chemical reactions, coordinate generation (2D or 3D), and fingerprinting.\n",
        "2.   **Pytorch-Geometric (details: https://pytorch-geometric.readthedocs.io/en/latest/)**<BR>\n",
        "     This is a library built upon PyTorch to easily write and train Graph Neural Networks (GNNs) for a wide range of applications related to structured data.\n",
        "\n",
        "<BR>\n",
        "\n",
        "This script and the dataset(s) used can be found in the following github repository: https://github.com/Mark12481632/Imperial_MSc_Project.git. Review the \"README\" file for guidance.\n",
        "<BR><BR>\n",
        "\n",
        "This script is comprised of the following sections: \n",
        "1.   Installation of the required packages.\n",
        "2.   Loading and examining the \"small organic molecule\" dataset.\n",
        "3.   RDKIT usage\n",
        "4.   Data validation checks on the \"small organic molecule\" dataset.\n",
        "5.   Initial analysis of the \"small organic molecule\" dataset.\n",
        "6.   Creation of the output dataset needed fro the GNN.\n",
        "7.   Summary.\n",
        "\n",
        "<BR>\n",
        "\n",
        "**This script was run in Google's Colab environment.**\n",
        "\n",
        "\n"
      ],
      "metadata": {
        "id": "X8vj5cy4xz4T"
      }
    },
    {
      "cell_type": "markdown",
      "source": [
        "\n",
        "---\n",
        "\n",
        "\n",
        "**Section 1: Installation of the required packages.**\n",
        "\n",
        "One of the reasons I used Google's Colab for running this script was because I had problems installing RDKIT on my Apple PC.  I was lucky enough to find guidance for its installation in Colab on the Internet.\n",
        "<BR><BR>\n",
        "\n",
        "As a prerequisite Condacolab was needed.\n",
        "\n",
        "<BR>\n",
        "\n",
        "\"%%capture\" is used to suppress cell output as this can be large.\n"
      ],
      "metadata": {
        "id": "e9q-vuXx0JCZ"
      }
    },
    {
      "cell_type": "code",
      "source": [
        "%%capture\n",
        "\n",
        "# Install CONDACOLAB\n",
        "!pip install -q condacolab\n",
        "import condacolab\n",
        "condacolab.install()"
      ],
      "metadata": {
        "id": "7F_iluVxzZJk"
      },
      "execution_count": null,
      "outputs": []
    },
    {
      "cell_type": "code",
      "source": [
        "%%capture\n",
        "\n",
        "# Install RDKIT\n",
        "!conda install -c rdkit rdkit"
      ],
      "metadata": {
        "id": "ejjgM0uBz0bs"
      },
      "execution_count": null,
      "outputs": []
    },
    {
      "cell_type": "code",
      "source": [
        "%%capture\n",
        "\n",
        "# Install pytorch-geometric\n",
        "!pip install torch_geometric"
      ],
      "metadata": {
        "id": "rgwhxyRsz541"
      },
      "execution_count": null,
      "outputs": []
    },
    {
      "cell_type": "markdown",
      "source": [
        "\n",
        "\n",
        "---\n",
        "\n",
        "\n",
        "**Section 2: Loading and examining the \"small organic molecule\" dataset**<BR>\n",
        "\n",
        "- The ESOL dataset has already been loaded into the github repository - we\n",
        "  can load it using Pandas.\n",
        "- Remove the column \"ESOL predicted log solubility in mols per litre\" as this is the result of another regression model.\n",
        "\n",
        "The column descriptions follow:\n",
        "\n",
        "\n",
        "1.   Compound ID:<BR>\n",
        "     Name of the compund.\n",
        "2.   ESOL predicted log solubility in mols per litre:<BR>\n",
        "     Predicted solubility using regression model - we will remove this.\n",
        "3.   Minimum Degree:<BR>\n",
        "4.   Molecular Weight:<BR>\n",
        "5.   Number of H-Bond Donors:<BR>\n",
        "6.   Number of Rings:<BR>\n",
        "7.   Number of Rotatable Bonds:<BR>\n",
        "8.   Polar Surface Area:<BR>\n",
        "9.   measured log solubility in mols per litre:<BR>\n",
        "10.  smiles:<BR>\n",
        "\n"
      ],
      "metadata": {
        "id": "Egf4iCtW9hKX"
      }
    },
    {
      "cell_type": "code",
      "source": [
        "# Load the \"ESOL\" dataset and show attributes.\n",
        "\n",
        "import pandas as pd\n",
        "\n",
        "github_esol_url = \"https://raw.githubusercontent.com/Mark12481632/Imperial_MSc_Project/main/chem_data/esol_raw.csv\"\n",
        "esol_data = pd.read_csv(github_esol_url)\n",
        "\n",
        "# Display sample from data:\n",
        "esol_data.head()"
      ],
      "metadata": {
        "id": "BM8CkP9U3P52",
        "outputId": "ed4f6135-24f1-4bfb-f2c0-348b68021130",
        "colab": {
          "base_uri": "https://localhost:8080/",
          "height": 299
        }
      },
      "execution_count": null,
      "outputs": [
        {
          "output_type": "execute_result",
          "data": {
            "text/plain": [
              "  Compound ID  ESOL predicted log solubility in mols per litre  \\\n",
              "0   Amigdalin                                           -0.974   \n",
              "1    Fenfuram                                           -2.885   \n",
              "2      citral                                           -2.579   \n",
              "3      Picene                                           -6.618   \n",
              "4   Thiophene                                           -2.232   \n",
              "\n",
              "   Minimum Degree  Molecular Weight  Number of H-Bond Donors  Number of Rings  \\\n",
              "0               1           457.432                        7                3   \n",
              "1               1           201.225                        1                2   \n",
              "2               1           152.237                        0                0   \n",
              "3               2           278.354                        0                5   \n",
              "4               2            84.143                        0                1   \n",
              "\n",
              "   Number of Rotatable Bonds  Polar Surface Area  \\\n",
              "0                          7              202.32   \n",
              "1                          2               42.24   \n",
              "2                          4               17.07   \n",
              "3                          0                0.00   \n",
              "4                          0                0.00   \n",
              "\n",
              "   measured log solubility in mols per litre  \\\n",
              "0                                      -0.77   \n",
              "1                                      -3.30   \n",
              "2                                      -2.06   \n",
              "3                                      -7.87   \n",
              "4                                      -1.33   \n",
              "\n",
              "                                              smiles  \n",
              "0  OCC3OC(OCC2OC(OC(C#N)c1ccccc1)C(O)C(O)C2O)C(O)...  \n",
              "1                             Cc1occc1C(=O)Nc2ccccc2  \n",
              "2                               CC(C)=CCCC(C)=CC(=O)  \n",
              "3                 c1ccc2c(c1)ccc3c2ccc4c5ccccc5ccc43  \n",
              "4                                            c1ccsc1  "
            ],
            "text/html": [
              "\n",
              "  <div id=\"df-6244113d-808b-4883-a7f0-0dc5ff90c37a\">\n",
              "    <div class=\"colab-df-container\">\n",
              "      <div>\n",
              "<style scoped>\n",
              "    .dataframe tbody tr th:only-of-type {\n",
              "        vertical-align: middle;\n",
              "    }\n",
              "\n",
              "    .dataframe tbody tr th {\n",
              "        vertical-align: top;\n",
              "    }\n",
              "\n",
              "    .dataframe thead th {\n",
              "        text-align: right;\n",
              "    }\n",
              "</style>\n",
              "<table border=\"1\" class=\"dataframe\">\n",
              "  <thead>\n",
              "    <tr style=\"text-align: right;\">\n",
              "      <th></th>\n",
              "      <th>Compound ID</th>\n",
              "      <th>ESOL predicted log solubility in mols per litre</th>\n",
              "      <th>Minimum Degree</th>\n",
              "      <th>Molecular Weight</th>\n",
              "      <th>Number of H-Bond Donors</th>\n",
              "      <th>Number of Rings</th>\n",
              "      <th>Number of Rotatable Bonds</th>\n",
              "      <th>Polar Surface Area</th>\n",
              "      <th>measured log solubility in mols per litre</th>\n",
              "      <th>smiles</th>\n",
              "    </tr>\n",
              "  </thead>\n",
              "  <tbody>\n",
              "    <tr>\n",
              "      <th>0</th>\n",
              "      <td>Amigdalin</td>\n",
              "      <td>-0.974</td>\n",
              "      <td>1</td>\n",
              "      <td>457.432</td>\n",
              "      <td>7</td>\n",
              "      <td>3</td>\n",
              "      <td>7</td>\n",
              "      <td>202.32</td>\n",
              "      <td>-0.77</td>\n",
              "      <td>OCC3OC(OCC2OC(OC(C#N)c1ccccc1)C(O)C(O)C2O)C(O)...</td>\n",
              "    </tr>\n",
              "    <tr>\n",
              "      <th>1</th>\n",
              "      <td>Fenfuram</td>\n",
              "      <td>-2.885</td>\n",
              "      <td>1</td>\n",
              "      <td>201.225</td>\n",
              "      <td>1</td>\n",
              "      <td>2</td>\n",
              "      <td>2</td>\n",
              "      <td>42.24</td>\n",
              "      <td>-3.30</td>\n",
              "      <td>Cc1occc1C(=O)Nc2ccccc2</td>\n",
              "    </tr>\n",
              "    <tr>\n",
              "      <th>2</th>\n",
              "      <td>citral</td>\n",
              "      <td>-2.579</td>\n",
              "      <td>1</td>\n",
              "      <td>152.237</td>\n",
              "      <td>0</td>\n",
              "      <td>0</td>\n",
              "      <td>4</td>\n",
              "      <td>17.07</td>\n",
              "      <td>-2.06</td>\n",
              "      <td>CC(C)=CCCC(C)=CC(=O)</td>\n",
              "    </tr>\n",
              "    <tr>\n",
              "      <th>3</th>\n",
              "      <td>Picene</td>\n",
              "      <td>-6.618</td>\n",
              "      <td>2</td>\n",
              "      <td>278.354</td>\n",
              "      <td>0</td>\n",
              "      <td>5</td>\n",
              "      <td>0</td>\n",
              "      <td>0.00</td>\n",
              "      <td>-7.87</td>\n",
              "      <td>c1ccc2c(c1)ccc3c2ccc4c5ccccc5ccc43</td>\n",
              "    </tr>\n",
              "    <tr>\n",
              "      <th>4</th>\n",
              "      <td>Thiophene</td>\n",
              "      <td>-2.232</td>\n",
              "      <td>2</td>\n",
              "      <td>84.143</td>\n",
              "      <td>0</td>\n",
              "      <td>1</td>\n",
              "      <td>0</td>\n",
              "      <td>0.00</td>\n",
              "      <td>-1.33</td>\n",
              "      <td>c1ccsc1</td>\n",
              "    </tr>\n",
              "  </tbody>\n",
              "</table>\n",
              "</div>\n",
              "      <button class=\"colab-df-convert\" onclick=\"convertToInteractive('df-6244113d-808b-4883-a7f0-0dc5ff90c37a')\"\n",
              "              title=\"Convert this dataframe to an interactive table.\"\n",
              "              style=\"display:none;\">\n",
              "        \n",
              "  <svg xmlns=\"http://www.w3.org/2000/svg\" height=\"24px\"viewBox=\"0 0 24 24\"\n",
              "       width=\"24px\">\n",
              "    <path d=\"M0 0h24v24H0V0z\" fill=\"none\"/>\n",
              "    <path d=\"M18.56 5.44l.94 2.06.94-2.06 2.06-.94-2.06-.94-.94-2.06-.94 2.06-2.06.94zm-11 1L8.5 8.5l.94-2.06 2.06-.94-2.06-.94L8.5 2.5l-.94 2.06-2.06.94zm10 10l.94 2.06.94-2.06 2.06-.94-2.06-.94-.94-2.06-.94 2.06-2.06.94z\"/><path d=\"M17.41 7.96l-1.37-1.37c-.4-.4-.92-.59-1.43-.59-.52 0-1.04.2-1.43.59L10.3 9.45l-7.72 7.72c-.78.78-.78 2.05 0 2.83L4 21.41c.39.39.9.59 1.41.59.51 0 1.02-.2 1.41-.59l7.78-7.78 2.81-2.81c.8-.78.8-2.07 0-2.86zM5.41 20L4 18.59l7.72-7.72 1.47 1.35L5.41 20z\"/>\n",
              "  </svg>\n",
              "      </button>\n",
              "      \n",
              "  <style>\n",
              "    .colab-df-container {\n",
              "      display:flex;\n",
              "      flex-wrap:wrap;\n",
              "      gap: 12px;\n",
              "    }\n",
              "\n",
              "    .colab-df-convert {\n",
              "      background-color: #E8F0FE;\n",
              "      border: none;\n",
              "      border-radius: 50%;\n",
              "      cursor: pointer;\n",
              "      display: none;\n",
              "      fill: #1967D2;\n",
              "      height: 32px;\n",
              "      padding: 0 0 0 0;\n",
              "      width: 32px;\n",
              "    }\n",
              "\n",
              "    .colab-df-convert:hover {\n",
              "      background-color: #E2EBFA;\n",
              "      box-shadow: 0px 1px 2px rgba(60, 64, 67, 0.3), 0px 1px 3px 1px rgba(60, 64, 67, 0.15);\n",
              "      fill: #174EA6;\n",
              "    }\n",
              "\n",
              "    [theme=dark] .colab-df-convert {\n",
              "      background-color: #3B4455;\n",
              "      fill: #D2E3FC;\n",
              "    }\n",
              "\n",
              "    [theme=dark] .colab-df-convert:hover {\n",
              "      background-color: #434B5C;\n",
              "      box-shadow: 0px 1px 3px 1px rgba(0, 0, 0, 0.15);\n",
              "      filter: drop-shadow(0px 1px 2px rgba(0, 0, 0, 0.3));\n",
              "      fill: #FFFFFF;\n",
              "    }\n",
              "  </style>\n",
              "\n",
              "      <script>\n",
              "        const buttonEl =\n",
              "          document.querySelector('#df-6244113d-808b-4883-a7f0-0dc5ff90c37a button.colab-df-convert');\n",
              "        buttonEl.style.display =\n",
              "          google.colab.kernel.accessAllowed ? 'block' : 'none';\n",
              "\n",
              "        async function convertToInteractive(key) {\n",
              "          const element = document.querySelector('#df-6244113d-808b-4883-a7f0-0dc5ff90c37a');\n",
              "          const dataTable =\n",
              "            await google.colab.kernel.invokeFunction('convertToInteractive',\n",
              "                                                     [key], {});\n",
              "          if (!dataTable) return;\n",
              "\n",
              "          const docLinkHtml = 'Like what you see? Visit the ' +\n",
              "            '<a target=\"_blank\" href=https://colab.research.google.com/notebooks/data_table.ipynb>data table notebook</a>'\n",
              "            + ' to learn more about interactive tables.';\n",
              "          element.innerHTML = '';\n",
              "          dataTable['output_type'] = 'display_data';\n",
              "          await google.colab.output.renderOutput(dataTable, element);\n",
              "          const docLink = document.createElement('div');\n",
              "          docLink.innerHTML = docLinkHtml;\n",
              "          element.appendChild(docLink);\n",
              "        }\n",
              "      </script>\n",
              "    </div>\n",
              "  </div>\n",
              "  "
            ]
          },
          "metadata": {},
          "execution_count": 4
        }
      ]
    },
    {
      "cell_type": "code",
      "source": [
        "# Remove column \"ESOL predicted log solubility in mols per litre\"\n",
        "del esol_data['ESOL predicted log solubility in mols per litre']\n",
        "esol_data.head()"
      ],
      "metadata": {
        "colab": {
          "base_uri": "https://localhost:8080/",
          "height": 282
        },
        "id": "V8LNesE-Dsbs",
        "outputId": "63cb4d91-48eb-445e-ef26-511d1b18fe68"
      },
      "execution_count": null,
      "outputs": [
        {
          "output_type": "execute_result",
          "data": {
            "text/plain": [
              "  Compound ID  Minimum Degree  Molecular Weight  Number of H-Bond Donors  \\\n",
              "0   Amigdalin               1           457.432                        7   \n",
              "1    Fenfuram               1           201.225                        1   \n",
              "2      citral               1           152.237                        0   \n",
              "3      Picene               2           278.354                        0   \n",
              "4   Thiophene               2            84.143                        0   \n",
              "\n",
              "   Number of Rings  Number of Rotatable Bonds  Polar Surface Area  \\\n",
              "0                3                          7              202.32   \n",
              "1                2                          2               42.24   \n",
              "2                0                          4               17.07   \n",
              "3                5                          0                0.00   \n",
              "4                1                          0                0.00   \n",
              "\n",
              "   measured log solubility in mols per litre  \\\n",
              "0                                      -0.77   \n",
              "1                                      -3.30   \n",
              "2                                      -2.06   \n",
              "3                                      -7.87   \n",
              "4                                      -1.33   \n",
              "\n",
              "                                              smiles  \n",
              "0  OCC3OC(OCC2OC(OC(C#N)c1ccccc1)C(O)C(O)C2O)C(O)...  \n",
              "1                             Cc1occc1C(=O)Nc2ccccc2  \n",
              "2                               CC(C)=CCCC(C)=CC(=O)  \n",
              "3                 c1ccc2c(c1)ccc3c2ccc4c5ccccc5ccc43  \n",
              "4                                            c1ccsc1  "
            ],
            "text/html": [
              "\n",
              "  <div id=\"df-0309e3e5-b2aa-44b9-afe8-a77f466741df\">\n",
              "    <div class=\"colab-df-container\">\n",
              "      <div>\n",
              "<style scoped>\n",
              "    .dataframe tbody tr th:only-of-type {\n",
              "        vertical-align: middle;\n",
              "    }\n",
              "\n",
              "    .dataframe tbody tr th {\n",
              "        vertical-align: top;\n",
              "    }\n",
              "\n",
              "    .dataframe thead th {\n",
              "        text-align: right;\n",
              "    }\n",
              "</style>\n",
              "<table border=\"1\" class=\"dataframe\">\n",
              "  <thead>\n",
              "    <tr style=\"text-align: right;\">\n",
              "      <th></th>\n",
              "      <th>Compound ID</th>\n",
              "      <th>Minimum Degree</th>\n",
              "      <th>Molecular Weight</th>\n",
              "      <th>Number of H-Bond Donors</th>\n",
              "      <th>Number of Rings</th>\n",
              "      <th>Number of Rotatable Bonds</th>\n",
              "      <th>Polar Surface Area</th>\n",
              "      <th>measured log solubility in mols per litre</th>\n",
              "      <th>smiles</th>\n",
              "    </tr>\n",
              "  </thead>\n",
              "  <tbody>\n",
              "    <tr>\n",
              "      <th>0</th>\n",
              "      <td>Amigdalin</td>\n",
              "      <td>1</td>\n",
              "      <td>457.432</td>\n",
              "      <td>7</td>\n",
              "      <td>3</td>\n",
              "      <td>7</td>\n",
              "      <td>202.32</td>\n",
              "      <td>-0.77</td>\n",
              "      <td>OCC3OC(OCC2OC(OC(C#N)c1ccccc1)C(O)C(O)C2O)C(O)...</td>\n",
              "    </tr>\n",
              "    <tr>\n",
              "      <th>1</th>\n",
              "      <td>Fenfuram</td>\n",
              "      <td>1</td>\n",
              "      <td>201.225</td>\n",
              "      <td>1</td>\n",
              "      <td>2</td>\n",
              "      <td>2</td>\n",
              "      <td>42.24</td>\n",
              "      <td>-3.30</td>\n",
              "      <td>Cc1occc1C(=O)Nc2ccccc2</td>\n",
              "    </tr>\n",
              "    <tr>\n",
              "      <th>2</th>\n",
              "      <td>citral</td>\n",
              "      <td>1</td>\n",
              "      <td>152.237</td>\n",
              "      <td>0</td>\n",
              "      <td>0</td>\n",
              "      <td>4</td>\n",
              "      <td>17.07</td>\n",
              "      <td>-2.06</td>\n",
              "      <td>CC(C)=CCCC(C)=CC(=O)</td>\n",
              "    </tr>\n",
              "    <tr>\n",
              "      <th>3</th>\n",
              "      <td>Picene</td>\n",
              "      <td>2</td>\n",
              "      <td>278.354</td>\n",
              "      <td>0</td>\n",
              "      <td>5</td>\n",
              "      <td>0</td>\n",
              "      <td>0.00</td>\n",
              "      <td>-7.87</td>\n",
              "      <td>c1ccc2c(c1)ccc3c2ccc4c5ccccc5ccc43</td>\n",
              "    </tr>\n",
              "    <tr>\n",
              "      <th>4</th>\n",
              "      <td>Thiophene</td>\n",
              "      <td>2</td>\n",
              "      <td>84.143</td>\n",
              "      <td>0</td>\n",
              "      <td>1</td>\n",
              "      <td>0</td>\n",
              "      <td>0.00</td>\n",
              "      <td>-1.33</td>\n",
              "      <td>c1ccsc1</td>\n",
              "    </tr>\n",
              "  </tbody>\n",
              "</table>\n",
              "</div>\n",
              "      <button class=\"colab-df-convert\" onclick=\"convertToInteractive('df-0309e3e5-b2aa-44b9-afe8-a77f466741df')\"\n",
              "              title=\"Convert this dataframe to an interactive table.\"\n",
              "              style=\"display:none;\">\n",
              "        \n",
              "  <svg xmlns=\"http://www.w3.org/2000/svg\" height=\"24px\"viewBox=\"0 0 24 24\"\n",
              "       width=\"24px\">\n",
              "    <path d=\"M0 0h24v24H0V0z\" fill=\"none\"/>\n",
              "    <path d=\"M18.56 5.44l.94 2.06.94-2.06 2.06-.94-2.06-.94-.94-2.06-.94 2.06-2.06.94zm-11 1L8.5 8.5l.94-2.06 2.06-.94-2.06-.94L8.5 2.5l-.94 2.06-2.06.94zm10 10l.94 2.06.94-2.06 2.06-.94-2.06-.94-.94-2.06-.94 2.06-2.06.94z\"/><path d=\"M17.41 7.96l-1.37-1.37c-.4-.4-.92-.59-1.43-.59-.52 0-1.04.2-1.43.59L10.3 9.45l-7.72 7.72c-.78.78-.78 2.05 0 2.83L4 21.41c.39.39.9.59 1.41.59.51 0 1.02-.2 1.41-.59l7.78-7.78 2.81-2.81c.8-.78.8-2.07 0-2.86zM5.41 20L4 18.59l7.72-7.72 1.47 1.35L5.41 20z\"/>\n",
              "  </svg>\n",
              "      </button>\n",
              "      \n",
              "  <style>\n",
              "    .colab-df-container {\n",
              "      display:flex;\n",
              "      flex-wrap:wrap;\n",
              "      gap: 12px;\n",
              "    }\n",
              "\n",
              "    .colab-df-convert {\n",
              "      background-color: #E8F0FE;\n",
              "      border: none;\n",
              "      border-radius: 50%;\n",
              "      cursor: pointer;\n",
              "      display: none;\n",
              "      fill: #1967D2;\n",
              "      height: 32px;\n",
              "      padding: 0 0 0 0;\n",
              "      width: 32px;\n",
              "    }\n",
              "\n",
              "    .colab-df-convert:hover {\n",
              "      background-color: #E2EBFA;\n",
              "      box-shadow: 0px 1px 2px rgba(60, 64, 67, 0.3), 0px 1px 3px 1px rgba(60, 64, 67, 0.15);\n",
              "      fill: #174EA6;\n",
              "    }\n",
              "\n",
              "    [theme=dark] .colab-df-convert {\n",
              "      background-color: #3B4455;\n",
              "      fill: #D2E3FC;\n",
              "    }\n",
              "\n",
              "    [theme=dark] .colab-df-convert:hover {\n",
              "      background-color: #434B5C;\n",
              "      box-shadow: 0px 1px 3px 1px rgba(0, 0, 0, 0.15);\n",
              "      filter: drop-shadow(0px 1px 2px rgba(0, 0, 0, 0.3));\n",
              "      fill: #FFFFFF;\n",
              "    }\n",
              "  </style>\n",
              "\n",
              "      <script>\n",
              "        const buttonEl =\n",
              "          document.querySelector('#df-0309e3e5-b2aa-44b9-afe8-a77f466741df button.colab-df-convert');\n",
              "        buttonEl.style.display =\n",
              "          google.colab.kernel.accessAllowed ? 'block' : 'none';\n",
              "\n",
              "        async function convertToInteractive(key) {\n",
              "          const element = document.querySelector('#df-0309e3e5-b2aa-44b9-afe8-a77f466741df');\n",
              "          const dataTable =\n",
              "            await google.colab.kernel.invokeFunction('convertToInteractive',\n",
              "                                                     [key], {});\n",
              "          if (!dataTable) return;\n",
              "\n",
              "          const docLinkHtml = 'Like what you see? Visit the ' +\n",
              "            '<a target=\"_blank\" href=https://colab.research.google.com/notebooks/data_table.ipynb>data table notebook</a>'\n",
              "            + ' to learn more about interactive tables.';\n",
              "          element.innerHTML = '';\n",
              "          dataTable['output_type'] = 'display_data';\n",
              "          await google.colab.output.renderOutput(dataTable, element);\n",
              "          const docLink = document.createElement('div');\n",
              "          docLink.innerHTML = docLinkHtml;\n",
              "          element.appendChild(docLink);\n",
              "        }\n",
              "      </script>\n",
              "    </div>\n",
              "  </div>\n",
              "  "
            ]
          },
          "metadata": {},
          "execution_count": 5
        }
      ]
    },
    {
      "cell_type": "markdown",
      "source": [
        "\n",
        "\n",
        "---\n",
        "\n",
        "\n",
        "**Section 3: Using RDKIT**\n",
        "\n",
        "In this section we demonstrate some of the functionality provided by the RDKIT package.\n",
        "1.   Use RDKIT to display molecules in 2D structure\n",
        "2.   Use RDKIT to check for valid molecules.\n",
        "3.   Use RDKIT to determine molecule length.\n",
        "4.   Use RDKIT to search for similar molecule substructures.\n",
        "\n",
        "NOTE: This is not a tutorial on RDKIT but just showing what it can do and it will be used in the future.\n",
        "\n"
      ],
      "metadata": {
        "id": "V4MbXzHl0WBi"
      }
    },
    {
      "cell_type": "code",
      "source": [
        "# 1. Display molecule in 2D structure\n",
        "\n",
        "from IPython.display import SVG\n",
        "from rdkit import Chem\n",
        "from rdkit.Chem import rdDepictor as rdd\n",
        "from rdkit.Chem.Draw import rdMolDraw2D as draw2d\n",
        "\n",
        "\n",
        "def draw2D(m, disp_h=450, disp_w=150):\n",
        "  \"\"\"\n",
        "  This is a simple function that displays a SMILES format molecule\n",
        "  as a 2D structure\n",
        "  \"\"\"\n",
        "  molSize=(disp_h, disp_w) \n",
        "  mc = Chem.Mol(m.ToBinary())\n",
        "  if not mc.GetNumConformers():\n",
        "    rdd.Compute2DCoords(mc)\n",
        "  drawer = draw2d.MolDraw2DSVG(molSize[0], molSize[1])\n",
        "  drawer.DrawMolecule(mc)\n",
        "  drawer.FinishDrawing()\n",
        "  svg = drawer.GetDrawingText()\n",
        "  display(SVG(svg.replace('svg:', '')))\n",
        "\n",
        "\n",
        "# load an example SMILES molecule\n",
        "example_molecule = Chem.MolFromSmiles('CC(N)C(=O)O')\n",
        "\n",
        "# Display molecule\n",
        "draw2D(example_molecule)"
      ],
      "metadata": {
        "colab": {
          "base_uri": "https://localhost:8080/",
          "height": 171
        },
        "id": "NaMG_Rl3z_dM",
        "outputId": "a494cab2-f6ee-4781-98a8-d6108f3ce1cd"
      },
      "execution_count": null,
      "outputs": [
        {
          "output_type": "display_data",
          "data": {
            "text/plain": [
              "<IPython.core.display.SVG object>"
            ],
            "image/svg+xml": "<svg xmlns=\"http://www.w3.org/2000/svg\" xmlns:rdkit=\"http://www.rdkit.org/xml\" xmlns:xlink=\"http://www.w3.org/1999/xlink\" version=\"1.1\" baseProfile=\"full\" xml:space=\"preserve\" width=\"450px\" height=\"150px\" viewBox=\"0 0 450 150\">\n<!-- END OF HEADER -->\n<rect style=\"opacity:1.0;fill:#FFFFFF;stroke:none\" width=\"450.0\" height=\"150.0\" x=\"0.0\" y=\"0.0\"> </rect>\n<path class=\"bond-0 atom-0 atom-1\" d=\"M 283.3,15.9 L 251.7,70.6\" style=\"fill:none;fill-rule:evenodd;stroke:#000000;stroke-width:2.0px;stroke-linecap:butt;stroke-linejoin:miter;stroke-opacity:1\"/>\n<path class=\"bond-1 atom-1 atom-2\" d=\"M 251.7,70.6 L 264.3,92.4\" style=\"fill:none;fill-rule:evenodd;stroke:#000000;stroke-width:2.0px;stroke-linecap:butt;stroke-linejoin:miter;stroke-opacity:1\"/>\n<path class=\"bond-1 atom-1 atom-2\" d=\"M 264.3,92.4 L 276.9,114.3\" style=\"fill:none;fill-rule:evenodd;stroke:#0000FF;stroke-width:2.0px;stroke-linecap:butt;stroke-linejoin:miter;stroke-opacity:1\"/>\n<path class=\"bond-2 atom-1 atom-3\" d=\"M 251.7,70.6 L 188.5,70.6\" style=\"fill:none;fill-rule:evenodd;stroke:#000000;stroke-width:2.0px;stroke-linecap:butt;stroke-linejoin:miter;stroke-opacity:1\"/>\n<path class=\"bond-3 atom-3 atom-4\" d=\"M 185.8,65.8 L 172.5,88.8\" style=\"fill:none;fill-rule:evenodd;stroke:#000000;stroke-width:2.0px;stroke-linecap:butt;stroke-linejoin:miter;stroke-opacity:1\"/>\n<path class=\"bond-3 atom-3 atom-4\" d=\"M 172.5,88.8 L 159.3,111.8\" style=\"fill:none;fill-rule:evenodd;stroke:#FF0000;stroke-width:2.0px;stroke-linecap:butt;stroke-linejoin:miter;stroke-opacity:1\"/>\n<path class=\"bond-3 atom-3 atom-4\" d=\"M 194.0,70.6 L 180.7,93.6\" style=\"fill:none;fill-rule:evenodd;stroke:#000000;stroke-width:2.0px;stroke-linecap:butt;stroke-linejoin:miter;stroke-opacity:1\"/>\n<path class=\"bond-3 atom-3 atom-4\" d=\"M 180.7,93.6 L 167.5,116.5\" style=\"fill:none;fill-rule:evenodd;stroke:#FF0000;stroke-width:2.0px;stroke-linecap:butt;stroke-linejoin:miter;stroke-opacity:1\"/>\n<path class=\"bond-4 atom-3 atom-5\" d=\"M 188.5,70.6 L 176.0,48.9\" style=\"fill:none;fill-rule:evenodd;stroke:#000000;stroke-width:2.0px;stroke-linecap:butt;stroke-linejoin:miter;stroke-opacity:1\"/>\n<path class=\"bond-4 atom-3 atom-5\" d=\"M 176.0,48.9 L 163.5,27.3\" style=\"fill:none;fill-rule:evenodd;stroke:#FF0000;stroke-width:2.0px;stroke-linecap:butt;stroke-linejoin:miter;stroke-opacity:1\"/>\n<path d=\"M 191.7,70.6 L 188.5,70.6 L 187.9,69.5\" style=\"fill:none;stroke:#000000;stroke-width:2.0px;stroke-linecap:butt;stroke-linejoin:miter;stroke-opacity:1;\"/>\n<path class=\"atom-2\" d=\"M 279.3 116.3 L 285.2 125.8 Q 285.8 126.8, 286.7 128.4 Q 287.7 130.1, 287.7 130.2 L 287.7 116.3 L 290.1 116.3 L 290.1 134.2 L 287.6 134.2 L 281.3 123.9 Q 280.6 122.7, 279.8 121.3 Q 279.1 119.9, 278.8 119.5 L 278.8 134.2 L 276.5 134.2 L 276.5 116.3 L 279.3 116.3 \" fill=\"#0000FF\"/>\n<path class=\"atom-2\" d=\"M 293.5 116.3 L 295.9 116.3 L 295.9 124.0 L 305.1 124.0 L 305.1 116.3 L 307.5 116.3 L 307.5 134.2 L 305.1 134.2 L 305.1 126.0 L 295.9 126.0 L 295.9 134.2 L 293.5 134.2 L 293.5 116.3 \" fill=\"#0000FF\"/>\n<path class=\"atom-2\" d=\"M 311.0 133.6 Q 311.4 132.5, 312.5 131.9 Q 313.5 131.2, 314.9 131.2 Q 316.7 131.2, 317.7 132.2 Q 318.7 133.2, 318.7 134.9 Q 318.7 136.6, 317.4 138.3 Q 316.1 139.9, 313.5 141.8 L 318.9 141.8 L 318.9 143.2 L 311.0 143.2 L 311.0 142.1 Q 313.2 140.5, 314.5 139.3 Q 315.8 138.2, 316.4 137.1 Q 317.1 136.1, 317.1 135.0 Q 317.1 133.8, 316.5 133.2 Q 315.9 132.6, 314.9 132.6 Q 314.0 132.6, 313.4 133.0 Q 312.7 133.3, 312.3 134.2 L 311.0 133.6 \" fill=\"#0000FF\"/>\n<path class=\"atom-4\" d=\"M 148.7 125.3 Q 148.7 121.0, 150.9 118.6 Q 153.0 116.2, 157.0 116.2 Q 160.9 116.2, 163.0 118.6 Q 165.2 121.0, 165.2 125.3 Q 165.2 129.7, 163.0 132.2 Q 160.9 134.6, 157.0 134.6 Q 153.0 134.6, 150.9 132.2 Q 148.7 129.7, 148.7 125.3 M 157.0 132.6 Q 159.7 132.6, 161.1 130.8 Q 162.6 128.9, 162.6 125.3 Q 162.6 121.8, 161.1 120.1 Q 159.7 118.3, 157.0 118.3 Q 154.2 118.3, 152.7 120.0 Q 151.3 121.8, 151.3 125.3 Q 151.3 129.0, 152.7 130.8 Q 154.2 132.6, 157.0 132.6 \" fill=\"#FF0000\"/>\n<path class=\"atom-5\" d=\"M 131.1 7.0 L 133.5 7.0 L 133.5 14.6 L 142.6 14.6 L 142.6 7.0 L 145.1 7.0 L 145.1 24.9 L 142.6 24.9 L 142.6 16.6 L 133.5 16.6 L 133.5 24.9 L 131.1 24.9 L 131.1 7.0 \" fill=\"#FF0000\"/>\n<path class=\"atom-5\" d=\"M 148.7 15.9 Q 148.7 11.6, 150.9 9.2 Q 153.0 6.8, 157.0 6.8 Q 160.9 6.8, 163.0 9.2 Q 165.2 11.6, 165.2 15.9 Q 165.2 20.3, 163.0 22.7 Q 160.9 25.2, 157.0 25.2 Q 153.0 25.2, 150.9 22.7 Q 148.7 20.3, 148.7 15.9 M 157.0 23.2 Q 159.7 23.2, 161.1 21.3 Q 162.6 19.5, 162.6 15.9 Q 162.6 12.4, 161.1 10.6 Q 159.7 8.8, 157.0 8.8 Q 154.2 8.8, 152.7 10.6 Q 151.3 12.4, 151.3 15.9 Q 151.3 19.5, 152.7 21.3 Q 154.2 23.2, 157.0 23.2 \" fill=\"#FF0000\"/>\n</svg>"
          },
          "metadata": {}
        }
      ]
    },
    {
      "cell_type": "code",
      "source": [
        "# 2a. Check invalid molecule.\n",
        "\n",
        "#   Invalid molecules create a \"SMILES Parse Error\" as shown below.\n",
        "#   Also, the object returned for an invalid molecule in None.\n",
        "invalid_smiles_molecule = 'CO(C)C'                # Such a molecule can't exist\n",
        "print(Chem.MolFromSmiles(invalid_smiles_molecule))"
      ],
      "metadata": {
        "id": "RQcqsbTv_sNh",
        "outputId": "783e9460-d82d-4e7a-a067-4dff90329781",
        "colab": {
          "base_uri": "https://localhost:8080/"
        }
      },
      "execution_count": null,
      "outputs": [
        {
          "output_type": "stream",
          "name": "stdout",
          "text": [
            "None\n"
          ]
        },
        {
          "output_type": "stream",
          "name": "stderr",
          "text": [
            "[17:25:23] Explicit valence for atom # 1 O, 3, is greater than permitted\n"
          ]
        }
      ]
    },
    {
      "cell_type": "code",
      "source": [
        "# 2b. Check valid molecule.\n",
        "\n",
        "#   Valid molecules create no error messages as shown below.\n",
        "#   Also, the object returned for a valid molecule in not None.\n",
        "valid_smiles_molecule = 'O'                   # This is the water molecule.\n",
        "print(Chem.MolFromSmiles(valid_smiles_molecule))\n"
      ],
      "metadata": {
        "colab": {
          "base_uri": "https://localhost:8080/"
        },
        "id": "vRkBr7lTfOdk",
        "outputId": "64fffeb3-ca11-44fa-ca57-2980f2f880a8"
      },
      "execution_count": null,
      "outputs": [
        {
          "output_type": "stream",
          "name": "stdout",
          "text": [
            "<rdkit.Chem.rdchem.Mol object at 0x7f70437cb370>\n"
          ]
        }
      ]
    },
    {
      "cell_type": "code",
      "source": [
        "# 3. Determine molecule length\n",
        "\n",
        "# load an example SMILES molecule\n",
        "example_molecule = Chem.MolFromSmiles('CC(N)C(=O)O')\n",
        "\n",
        "# Determine number of atoms (=molecule length)\n",
        "print(\"Molecule length:\", example_molecule.GetNumAtoms())"
      ],
      "metadata": {
        "id": "NQw7nvlt_uzX",
        "colab": {
          "base_uri": "https://localhost:8080/"
        },
        "outputId": "27aa2efd-34f3-4f85-87a8-3230376f70f1"
      },
      "execution_count": null,
      "outputs": [
        {
          "output_type": "stream",
          "name": "stdout",
          "text": [
            "Molecule length: 6\n"
          ]
        }
      ]
    },
    {
      "cell_type": "code",
      "source": [
        "# 4. Substructure searches make use of SMARTS (ref:https://www.daylight.com/dayhtml/doc/theory/theory.smarts.html)\n",
        "#    a Language for Describing Molecular Patterns\n",
        "\n"
      ],
      "metadata": {
        "id": "-d7gLtyLhdEP"
      },
      "execution_count": null,
      "outputs": []
    },
    {
      "cell_type": "code",
      "source": [
        "xx = Chem.MolFromSmiles('Oc1ccccc1')\n",
        "\n",
        "draw2D(xx)\n",
        "\n",
        "patt = Chem.MolFromSmarts('c1ccccc1')\n",
        "\n",
        "xx.HasSubstructMatch(patt)"
      ],
      "metadata": {
        "colab": {
          "base_uri": "https://localhost:8080/",
          "height": 188
        },
        "id": "Z36PgoKZion0",
        "outputId": "84f899b8-3917-45fa-cee4-051997ec1547"
      },
      "execution_count": null,
      "outputs": [
        {
          "output_type": "display_data",
          "data": {
            "text/plain": [
              "<IPython.core.display.SVG object>"
            ],
            "image/svg+xml": "<svg xmlns=\"http://www.w3.org/2000/svg\" xmlns:rdkit=\"http://www.rdkit.org/xml\" xmlns:xlink=\"http://www.w3.org/1999/xlink\" version=\"1.1\" baseProfile=\"full\" xml:space=\"preserve\" width=\"450px\" height=\"150px\" viewBox=\"0 0 450 150\">\n<!-- END OF HEADER -->\n<rect style=\"opacity:1.0;fill:#FFFFFF;stroke:none\" width=\"450.0\" height=\"150.0\" x=\"0.0\" y=\"0.0\"> </rect>\n<path class=\"bond-0 atom-0 atom-1\" d=\"M 314.7,75.0 L 281.7,75.0\" style=\"fill:none;fill-rule:evenodd;stroke:#FF0000;stroke-width:2.0px;stroke-linecap:butt;stroke-linejoin:miter;stroke-opacity:1\"/>\n<path class=\"bond-0 atom-0 atom-1\" d=\"M 281.7,75.0 L 248.8,75.0\" style=\"fill:none;fill-rule:evenodd;stroke:#000000;stroke-width:2.0px;stroke-linecap:butt;stroke-linejoin:miter;stroke-opacity:1\"/>\n<path class=\"bond-1 atom-1 atom-2\" d=\"M 248.8,75.0 L 209.4,143.2\" style=\"fill:none;fill-rule:evenodd;stroke:#000000;stroke-width:2.0px;stroke-linecap:butt;stroke-linejoin:miter;stroke-opacity:1\"/>\n<path class=\"bond-1 atom-1 atom-2\" d=\"M 235.2,75.0 L 202.6,131.4\" style=\"fill:none;fill-rule:evenodd;stroke:#000000;stroke-width:2.0px;stroke-linecap:butt;stroke-linejoin:miter;stroke-opacity:1\"/>\n<path class=\"bond-2 atom-2 atom-3\" d=\"M 209.4,143.2 L 130.7,143.2\" style=\"fill:none;fill-rule:evenodd;stroke:#000000;stroke-width:2.0px;stroke-linecap:butt;stroke-linejoin:miter;stroke-opacity:1\"/>\n<path class=\"bond-3 atom-3 atom-4\" d=\"M 130.7,143.2 L 91.3,75.0\" style=\"fill:none;fill-rule:evenodd;stroke:#000000;stroke-width:2.0px;stroke-linecap:butt;stroke-linejoin:miter;stroke-opacity:1\"/>\n<path class=\"bond-3 atom-3 atom-4\" d=\"M 137.5,131.4 L 105.0,75.0\" style=\"fill:none;fill-rule:evenodd;stroke:#000000;stroke-width:2.0px;stroke-linecap:butt;stroke-linejoin:miter;stroke-opacity:1\"/>\n<path class=\"bond-4 atom-4 atom-5\" d=\"M 91.3,75.0 L 130.7,6.8\" style=\"fill:none;fill-rule:evenodd;stroke:#000000;stroke-width:2.0px;stroke-linecap:butt;stroke-linejoin:miter;stroke-opacity:1\"/>\n<path class=\"bond-5 atom-5 atom-6\" d=\"M 130.7,6.8 L 209.4,6.8\" style=\"fill:none;fill-rule:evenodd;stroke:#000000;stroke-width:2.0px;stroke-linecap:butt;stroke-linejoin:miter;stroke-opacity:1\"/>\n<path class=\"bond-5 atom-5 atom-6\" d=\"M 137.5,18.6 L 202.6,18.6\" style=\"fill:none;fill-rule:evenodd;stroke:#000000;stroke-width:2.0px;stroke-linecap:butt;stroke-linejoin:miter;stroke-opacity:1\"/>\n<path class=\"bond-6 atom-6 atom-1\" d=\"M 209.4,6.8 L 248.8,75.0\" style=\"fill:none;fill-rule:evenodd;stroke:#000000;stroke-width:2.0px;stroke-linecap:butt;stroke-linejoin:miter;stroke-opacity:1\"/>\n<path d=\"M 211.4,139.8 L 209.4,143.2 L 205.5,143.2\" style=\"fill:none;stroke:#000000;stroke-width:2.0px;stroke-linecap:butt;stroke-linejoin:miter;stroke-opacity:1;\"/>\n<path d=\"M 134.6,143.2 L 130.7,143.2 L 128.7,139.8\" style=\"fill:none;stroke:#000000;stroke-width:2.0px;stroke-linecap:butt;stroke-linejoin:miter;stroke-opacity:1;\"/>\n<path d=\"M 93.3,78.4 L 91.3,75.0 L 93.3,71.6\" style=\"fill:none;stroke:#000000;stroke-width:2.0px;stroke-linecap:butt;stroke-linejoin:miter;stroke-opacity:1;\"/>\n<path d=\"M 128.7,10.2 L 130.7,6.8 L 134.6,6.8\" style=\"fill:none;stroke:#000000;stroke-width:2.0px;stroke-linecap:butt;stroke-linejoin:miter;stroke-opacity:1;\"/>\n<path d=\"M 205.5,6.8 L 209.4,6.8 L 211.4,10.2\" style=\"fill:none;stroke:#000000;stroke-width:2.0px;stroke-linecap:butt;stroke-linejoin:miter;stroke-opacity:1;\"/>\n<path class=\"atom-0\" d=\"M 317.3 75.1 Q 317.3 69.7, 319.9 66.7 Q 322.6 63.7, 327.5 63.7 Q 332.5 63.7, 335.1 66.7 Q 337.8 69.7, 337.8 75.1 Q 337.8 80.5, 335.1 83.6 Q 332.4 86.6, 327.5 86.6 Q 322.6 86.6, 319.9 83.6 Q 317.3 80.5, 317.3 75.1 M 327.5 84.1 Q 330.9 84.1, 332.7 81.8 Q 334.6 79.5, 334.6 75.1 Q 334.6 70.7, 332.7 68.5 Q 330.9 66.2, 327.5 66.2 Q 324.1 66.2, 322.3 68.4 Q 320.4 70.7, 320.4 75.1 Q 320.4 79.6, 322.3 81.8 Q 324.1 84.1, 327.5 84.1 \" fill=\"#FF0000\"/>\n<path class=\"atom-0\" d=\"M 341.2 64.0 L 344.2 64.0 L 344.2 73.5 L 355.6 73.5 L 355.6 64.0 L 358.7 64.0 L 358.7 86.3 L 355.6 86.3 L 355.6 76.0 L 344.2 76.0 L 344.2 86.3 L 341.2 86.3 L 341.2 64.0 \" fill=\"#FF0000\"/>\n</svg>"
          },
          "metadata": {}
        },
        {
          "output_type": "execute_result",
          "data": {
            "text/plain": [
              "False"
            ]
          },
          "metadata": {},
          "execution_count": 31
        }
      ]
    },
    {
      "cell_type": "code",
      "source": [],
      "metadata": {
        "id": "M4LyDw_6jqRd"
      },
      "execution_count": null,
      "outputs": []
    }
  ]
}