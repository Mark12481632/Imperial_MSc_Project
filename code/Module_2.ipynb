{
  "nbformat": 4,
  "nbformat_minor": 0,
  "metadata": {
    "colab": {
      "provenance": [],
      "authorship_tag": "ABX9TyMUP9d1hlaiBukDtcgIkaiN",
      "include_colab_link": true
    },
    "kernelspec": {
      "name": "python3",
      "display_name": "Python 3"
    },
    "language_info": {
      "name": "python"
    }
  },
  "cells": [
    {
      "cell_type": "markdown",
      "metadata": {
        "id": "view-in-github",
        "colab_type": "text"
      },
      "source": [
        "<a href=\"https://colab.research.google.com/github/Mark12481632/Imperial_MSc_Project/blob/main/code/Module_2.ipynb\" target=\"_parent\"><img src=\"https://colab.research.google.com/assets/colab-badge.svg\" alt=\"Open In Colab\"/></a>"
      ]
    },
    {
      "cell_type": "markdown",
      "source": [
        "##Module 2 of the MSc Project.\n",
        "\n",
        "My research project is intending to use a Graphical Neural Network (GNN) to predict the solubility, in water, of small organic molecules.\n",
        "<BR><BR>\n",
        "\n",
        "The ESOL dataset: https://moleculenet.org/datasets-1, has been identified as a suitable source of data for this project.  It consists of 1128 examples of small organic molecules records - if this is not enough data I may need to suplement this but can't know this until GNN training.  The information in this dataset will need to be transformed into a format suitable for a GNN - i.e. a graph.\n",
        "<BR><BR>\n",
        "The analysis and transformation of the \"small organic molecule\" dataset will need specific tools:\n",
        "\n",
        "1.   **RDKIT (details:https://www.rdkit.org/docs/index.html)**<BR>\n",
        "     The RDKit is an open-source cheminformatics toolkit written in C++ that is also useable from Java or Python. It includes a collection of standard cheminformatics functionality for molecule I/O, substructure searching, chemical reactions, coordinate generation (2D or 3D), fingerprinting\n",
        "2.   **Pytorch-Geometric package (details: https://pytorch-geometric.readthedocs.io/en/latest/)**<BR>\n",
        "     This is a library built upon PyTorch to easily write and train Graph Neural Networks (GNNs) for a wide range of applications related to structured data.\n",
        "\n",
        "<BR>\n",
        "This script and the dataset(s) used can be found in the following github repository: https://github.com/Mark12481632/Imperial_MSc_Project.git . Read the \"README\" file for guidance.\n",
        "<BR>\n",
        "\n",
        "**This script was run in Google's Colab environment.**\n",
        "<BR><BR>\n",
        "\n",
        "This script is comprised of the following sections: \n",
        "1.   Installation of the required packages.\n",
        "2.   Loading and examining the \"small organic molecule\" dataset that.\n",
        "3.   RDKIT usage\n",
        "4.   Data validation checks on the \"small organic molecule\" dataset.\n",
        "5.   Initial analysis of the \"small organic molecule\" dataset.\n",
        "6.   Creation of the output dataset needed fro the GNN\n",
        "\n"
      ],
      "metadata": {
        "id": "X8vj5cy4xz4T"
      }
    },
    {
      "cell_type": "markdown",
      "source": [
        "**Section 1: Installation of the required packages.**"
      ],
      "metadata": {
        "id": "e9q-vuXx0JCZ"
      }
    },
    {
      "cell_type": "code",
      "source": [
        "%%capture\n",
        "\n",
        "# Install CONDACOLAB\n",
        "!pip install -q condacolab\n",
        "import condacolab\n",
        "condacolab.install()"
      ],
      "metadata": {
        "id": "7F_iluVxzZJk"
      },
      "execution_count": null,
      "outputs": []
    },
    {
      "cell_type": "code",
      "source": [
        "%%capture\n",
        "\n",
        "# Install RDKIT\n",
        "!conda install -c rdkit rdkit"
      ],
      "metadata": {
        "id": "ejjgM0uBz0bs"
      },
      "execution_count": null,
      "outputs": []
    },
    {
      "cell_type": "code",
      "source": [
        "%%capture\n",
        "\n",
        "# Install pytorch-geometric\n",
        "!pip install torch_geometric"
      ],
      "metadata": {
        "id": "rgwhxyRsz541"
      },
      "execution_count": null,
      "outputs": []
    },
    {
      "cell_type": "markdown",
      "source": [
        "**Section 2: Loading the dataset**"
      ],
      "metadata": {
        "id": "Egf4iCtW9hKX"
      }
    },
    {
      "cell_type": "code",
      "source": [
        "# Load the \"ESOL\" dataset\n",
        "\n",
        "from torch_geometric.datasets import MoleculeNet\n",
        "\n",
        "esol_data = MoleculeNet(name=\"ESOL\", root=\".\")"
      ],
      "metadata": {
        "id": "BM8CkP9U3P52",
        "outputId": "fc7f34d3-2132-44fc-9507-34225fd1e8e9",
        "colab": {
          "base_uri": "https://localhost:8080/"
        }
      },
      "execution_count": null,
      "outputs": [
        {
          "output_type": "stream",
          "name": "stderr",
          "text": [
            "Downloading https://deepchemdata.s3-us-west-1.amazonaws.com/datasets/delaney-processed.csv\n",
            "Processing...\n",
            "Done!\n"
          ]
        }
      ]
    },
    {
      "cell_type": "markdown",
      "source": [
        "**Section 3: Using RDKIT**\n",
        "\n",
        "\n",
        "1.   Use RDKIT to display molecules in 2D structure\n",
        "2.   Use RDKIT to search for similar molecule structures.\n",
        "\n"
      ],
      "metadata": {
        "id": "V4MbXzHl0WBi"
      }
    },
    {
      "cell_type": "code",
      "source": [
        "# 1. Display molecule in 2D structure\n",
        "\n",
        "from IPython.display import SVG\n",
        "from rdkit import Chem\n",
        "from rdkit.Chem import rdDepictor as rdd\n",
        "from rdkit.Chem.Draw import rdMolDraw2D as draw2d\n",
        "\n",
        "\n",
        "def draw2D(m):\n",
        "  \"\"\"\n",
        "  Present the molecule in 2D structure\n",
        "  \"\"\"\n",
        "  molSize=(450,150)                 # Draw size\n",
        "  mc = Chem.Mol(m.ToBinary())\n",
        "  if not mc.GetNumConformers():\n",
        "    rdd.Compute2DCoords(mc)\n",
        "  drawer = draw2d.MolDraw2DSVG(molSize[0], molSize[1])\n",
        "  drawer.DrawMolecule(mc)\n",
        "  drawer.FinishDrawing()\n",
        "  svg = drawer.GetDrawingText()\n",
        "  display(SVG(svg.replace('svg:', '')))\n",
        "\n",
        "# load a SMILES molecule\n",
        "mol = Chem.MolFromSmiles('CC(N)C(=O)O')\n",
        "\n",
        "# Display molecule\n",
        "draw2D(mol)"
      ],
      "metadata": {
        "colab": {
          "base_uri": "https://localhost:8080/",
          "height": 171
        },
        "id": "NaMG_Rl3z_dM",
        "outputId": "3222bcc9-9404-429f-a1cb-d083ec5eb366"
      },
      "execution_count": null,
      "outputs": [
        {
          "output_type": "display_data",
          "data": {
            "text/plain": [
              "<IPython.core.display.SVG object>"
            ],
            "image/svg+xml": "<svg xmlns=\"http://www.w3.org/2000/svg\" xmlns:rdkit=\"http://www.rdkit.org/xml\" xmlns:xlink=\"http://www.w3.org/1999/xlink\" version=\"1.1\" baseProfile=\"full\" xml:space=\"preserve\" width=\"450px\" height=\"150px\" viewBox=\"0 0 450 150\">\n<!-- END OF HEADER -->\n<rect style=\"opacity:1.0;fill:#FFFFFF;stroke:none\" width=\"450.0\" height=\"150.0\" x=\"0.0\" y=\"0.0\"> </rect>\n<path class=\"bond-0 atom-0 atom-1\" d=\"M 283.3,15.9 L 251.7,70.6\" style=\"fill:none;fill-rule:evenodd;stroke:#000000;stroke-width:2.0px;stroke-linecap:butt;stroke-linejoin:miter;stroke-opacity:1\"/>\n<path class=\"bond-1 atom-1 atom-2\" d=\"M 251.7,70.6 L 264.3,92.4\" style=\"fill:none;fill-rule:evenodd;stroke:#000000;stroke-width:2.0px;stroke-linecap:butt;stroke-linejoin:miter;stroke-opacity:1\"/>\n<path class=\"bond-1 atom-1 atom-2\" d=\"M 264.3,92.4 L 276.9,114.3\" style=\"fill:none;fill-rule:evenodd;stroke:#0000FF;stroke-width:2.0px;stroke-linecap:butt;stroke-linejoin:miter;stroke-opacity:1\"/>\n<path class=\"bond-2 atom-1 atom-3\" d=\"M 251.7,70.6 L 188.5,70.6\" style=\"fill:none;fill-rule:evenodd;stroke:#000000;stroke-width:2.0px;stroke-linecap:butt;stroke-linejoin:miter;stroke-opacity:1\"/>\n<path class=\"bond-3 atom-3 atom-4\" d=\"M 185.8,65.8 L 172.5,88.8\" style=\"fill:none;fill-rule:evenodd;stroke:#000000;stroke-width:2.0px;stroke-linecap:butt;stroke-linejoin:miter;stroke-opacity:1\"/>\n<path class=\"bond-3 atom-3 atom-4\" d=\"M 172.5,88.8 L 159.3,111.8\" style=\"fill:none;fill-rule:evenodd;stroke:#FF0000;stroke-width:2.0px;stroke-linecap:butt;stroke-linejoin:miter;stroke-opacity:1\"/>\n<path class=\"bond-3 atom-3 atom-4\" d=\"M 194.0,70.6 L 180.7,93.6\" style=\"fill:none;fill-rule:evenodd;stroke:#000000;stroke-width:2.0px;stroke-linecap:butt;stroke-linejoin:miter;stroke-opacity:1\"/>\n<path class=\"bond-3 atom-3 atom-4\" d=\"M 180.7,93.6 L 167.5,116.5\" style=\"fill:none;fill-rule:evenodd;stroke:#FF0000;stroke-width:2.0px;stroke-linecap:butt;stroke-linejoin:miter;stroke-opacity:1\"/>\n<path class=\"bond-4 atom-3 atom-5\" d=\"M 188.5,70.6 L 176.0,48.9\" style=\"fill:none;fill-rule:evenodd;stroke:#000000;stroke-width:2.0px;stroke-linecap:butt;stroke-linejoin:miter;stroke-opacity:1\"/>\n<path class=\"bond-4 atom-3 atom-5\" d=\"M 176.0,48.9 L 163.5,27.3\" style=\"fill:none;fill-rule:evenodd;stroke:#FF0000;stroke-width:2.0px;stroke-linecap:butt;stroke-linejoin:miter;stroke-opacity:1\"/>\n<path d=\"M 191.7,70.6 L 188.5,70.6 L 187.9,69.5\" style=\"fill:none;stroke:#000000;stroke-width:2.0px;stroke-linecap:butt;stroke-linejoin:miter;stroke-opacity:1;\"/>\n<path class=\"atom-2\" d=\"M 279.3 116.3 L 285.2 125.8 Q 285.8 126.8, 286.7 128.4 Q 287.7 130.1, 287.7 130.2 L 287.7 116.3 L 290.1 116.3 L 290.1 134.2 L 287.6 134.2 L 281.3 123.9 Q 280.6 122.7, 279.8 121.3 Q 279.1 119.9, 278.8 119.5 L 278.8 134.2 L 276.5 134.2 L 276.5 116.3 L 279.3 116.3 \" fill=\"#0000FF\"/>\n<path class=\"atom-2\" d=\"M 293.5 116.3 L 295.9 116.3 L 295.9 124.0 L 305.1 124.0 L 305.1 116.3 L 307.5 116.3 L 307.5 134.2 L 305.1 134.2 L 305.1 126.0 L 295.9 126.0 L 295.9 134.2 L 293.5 134.2 L 293.5 116.3 \" fill=\"#0000FF\"/>\n<path class=\"atom-2\" d=\"M 311.0 133.6 Q 311.4 132.5, 312.5 131.9 Q 313.5 131.2, 314.9 131.2 Q 316.7 131.2, 317.7 132.2 Q 318.7 133.2, 318.7 134.9 Q 318.7 136.6, 317.4 138.3 Q 316.1 139.9, 313.5 141.8 L 318.9 141.8 L 318.9 143.2 L 311.0 143.2 L 311.0 142.1 Q 313.2 140.5, 314.5 139.3 Q 315.8 138.2, 316.4 137.1 Q 317.1 136.1, 317.1 135.0 Q 317.1 133.8, 316.5 133.2 Q 315.9 132.6, 314.9 132.6 Q 314.0 132.6, 313.4 133.0 Q 312.7 133.3, 312.3 134.2 L 311.0 133.6 \" fill=\"#0000FF\"/>\n<path class=\"atom-4\" d=\"M 148.7 125.3 Q 148.7 121.0, 150.9 118.6 Q 153.0 116.2, 157.0 116.2 Q 160.9 116.2, 163.0 118.6 Q 165.2 121.0, 165.2 125.3 Q 165.2 129.7, 163.0 132.2 Q 160.9 134.6, 157.0 134.6 Q 153.0 134.6, 150.9 132.2 Q 148.7 129.7, 148.7 125.3 M 157.0 132.6 Q 159.7 132.6, 161.1 130.8 Q 162.6 128.9, 162.6 125.3 Q 162.6 121.8, 161.1 120.1 Q 159.7 118.3, 157.0 118.3 Q 154.2 118.3, 152.7 120.0 Q 151.3 121.8, 151.3 125.3 Q 151.3 129.0, 152.7 130.8 Q 154.2 132.6, 157.0 132.6 \" fill=\"#FF0000\"/>\n<path class=\"atom-5\" d=\"M 131.1 7.0 L 133.5 7.0 L 133.5 14.6 L 142.6 14.6 L 142.6 7.0 L 145.1 7.0 L 145.1 24.9 L 142.6 24.9 L 142.6 16.6 L 133.5 16.6 L 133.5 24.9 L 131.1 24.9 L 131.1 7.0 \" fill=\"#FF0000\"/>\n<path class=\"atom-5\" d=\"M 148.7 15.9 Q 148.7 11.6, 150.9 9.2 Q 153.0 6.8, 157.0 6.8 Q 160.9 6.8, 163.0 9.2 Q 165.2 11.6, 165.2 15.9 Q 165.2 20.3, 163.0 22.7 Q 160.9 25.2, 157.0 25.2 Q 153.0 25.2, 150.9 22.7 Q 148.7 20.3, 148.7 15.9 M 157.0 23.2 Q 159.7 23.2, 161.1 21.3 Q 162.6 19.5, 162.6 15.9 Q 162.6 12.4, 161.1 10.6 Q 159.7 8.8, 157.0 8.8 Q 154.2 8.8, 152.7 10.6 Q 151.3 12.4, 151.3 15.9 Q 151.3 19.5, 152.7 21.3 Q 154.2 23.2, 157.0 23.2 \" fill=\"#FF0000\"/>\n</svg>"
          },
          "metadata": {}
        }
      ]
    },
    {
      "cell_type": "code",
      "source": [
        "esol_data"
      ],
      "metadata": {
        "id": "RQcqsbTv_sNh",
        "outputId": "b4d8c7b7-85b1-4c8d-d996-1c79c2dd225e",
        "colab": {
          "base_uri": "https://localhost:8080/"
        }
      },
      "execution_count": null,
      "outputs": [
        {
          "output_type": "execute_result",
          "data": {
            "text/plain": [
              "ESOL(1128)"
            ]
          },
          "metadata": {},
          "execution_count": 15
        }
      ]
    },
    {
      "cell_type": "code",
      "source": [],
      "metadata": {
        "id": "NQw7nvlt_uzX"
      },
      "execution_count": null,
      "outputs": []
    }
  ]
}